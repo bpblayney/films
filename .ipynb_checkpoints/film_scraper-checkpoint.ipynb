{
 "cells": [
  {
   "cell_type": "code",
   "execution_count": 1,
   "metadata": {},
   "outputs": [],
   "source": [
    "from selenium import webdriver\n",
    "from selenium.webdriver.common.desired_capabilities import DesiredCapabilities\n",
    "from fake_useragent import UserAgent\n",
    "from selenium.webdriver.support.ui import WebDriverWait\n",
    "from selenium.webdriver.support import expected_conditions as EC\n",
    "from selenium.webdriver.common.by import By\n",
    "import re\n",
    "from bs4 import BeautifulSoup"
   ]
  },
  {
   "cell_type": "code",
   "execution_count": 49,
   "metadata": {},
   "outputs": [],
   "source": [
    "import requests\n",
    "import os\n",
    "import pandas as pd\n"
   ]
  },
  {
   "cell_type": "markdown",
   "metadata": {},
   "source": [
    "## Collect all the film links"
   ]
  },
  {
   "cell_type": "code",
   "execution_count": 40,
   "metadata": {},
   "outputs": [],
   "source": [
    "genre_dict = {\n",
    "    \"1\": \"action\",\n",
    "    \"2\": \"animation\",\n",
    "    \"4\": \"arts\",\n",
    "    \"5\": \"classics\",\n",
    "    \"6\": \"comedy\",\n",
    "    \"8\": \"documentary\",\n",
    "    \"9\": \"drama\",\n",
    "    \"10\": \"horror\",\n",
    "    \"11\": \"kids\",\n",
    "    \"13\": \"mystery\",\n",
    "    \"18\": \"romance\",\n",
    "    \"14\": \"scifi\"\n",
    "}"
   ]
  },
  {
   "cell_type": "code",
   "execution_count": 46,
   "metadata": {},
   "outputs": [
    {
     "name": "stdout",
     "output_type": "stream",
     "text": [
      "1 action\n",
      "2 animation\n",
      "4 arts  20 18\n",
      "5 classics7\n",
      "6 comedy59 22 27 36\n",
      "8 documentary2 22\n",
      "9 drama 593\n",
      "10 horror97\n",
      "11 kids 59\n",
      "13 mystery\n",
      "18 romance 14 19\n",
      "14 scifi59\n",
      "click:  59\r"
     ]
    }
   ],
   "source": [
    "for genre in genre_dict:\n",
    "    print(genre,genre_dict[genre])\n",
    "    #make browser\n",
    "    ua=UserAgent()\n",
    "    dcap = dict(DesiredCapabilities.PHANTOMJS)\n",
    "    dcap[\"phantomjs.page.settings.userAgent\"] = (ua.random)\n",
    "    service_args=['--ssl-protocol=any','--ignore-ssl-errors=true']\n",
    "    driver = webdriver.Chrome(\"D:/Documents/DataScience/Portfolio/films/films/chromedriver\")\n",
    "\n",
    "    all_movie = 'https://www.rottentomatoes.com/browse/dvd-streaming-all?minTomato=0&maxTomato=100&services=amazon;hbo_go;itunes;netflix_iw;vudu;amazon_prime;fandango_now&genres='+str(genre)+'&sortBy=tomato'\n",
    "    driver.get(all_movie)\n",
    "    webLink = 'https://www.rottentomatoes.com'\n",
    "    movies = set()\n",
    "    \n",
    "    for i in range (0,60):\n",
    "        try:\n",
    "            #print(movies)\n",
    "            showMoreButton = WebDriverWait(driver, 0.01).until(EC.presence_of_element_located((By.XPATH,'//*[@id=\"show-more-btn\"]/button')))\n",
    "            #click on the showMore Button\n",
    "            showMoreButton.click()\n",
    "            print('click: ',i, end=\"\\r\")\n",
    "        except: None\n",
    "            #print ('missing show More button')\n",
    "\n",
    "    html=driver.page_source# get the html\n",
    "    soup = BeautifulSoup(html, \"lxml\") # parse the html \n",
    "    all_movies=soup.findAll('div', {'class':re.compile('movie_info')}) # get all the review divs\n",
    "\n",
    "    for x in all_movies:\n",
    "        link=x.find('a',{'href':re.compile('/m/')})\n",
    "        movLink = webLink + str(link).split('\"')[1]\n",
    "        #print(movLink)\n",
    "        movies.add(str(movLink))    #creating the distinct list of movies\n",
    "        \n",
    "    try:\n",
    "        fw=open(genre_dict[genre]+'.txt','w') # output file\n",
    "\n",
    "        for x in movies:\n",
    "            fw.write(x +\"\\n\")\n",
    "\n",
    "        fw.close()\n",
    "    except:\n",
    "        print(\"Error while trying to create movie_link.txt file\")"
   ]
  },
  {
   "cell_type": "markdown",
   "metadata": {},
   "source": [
    "## "
   ]
  },
  {
   "cell_type": "code",
   "execution_count": 51,
   "metadata": {},
   "outputs": [
    {
     "ename": "NameError",
     "evalue": "name 'run' is not defined",
     "output_type": "error",
     "traceback": [
      "\u001b[1;31m---------------------------------------------------------------------------\u001b[0m",
      "\u001b[1;31mNameError\u001b[0m                                 Traceback (most recent call last)",
      "\u001b[1;32m<ipython-input-51-150b2f0e7e77>\u001b[0m in \u001b[0;36m<module>\u001b[1;34m\u001b[0m\n\u001b[0;32m      2\u001b[0m \u001b[0maction\u001b[0m \u001b[1;33m=\u001b[0m \u001b[1;33m[\u001b[0m\u001b[1;33m]\u001b[0m\u001b[1;33m\u001b[0m\u001b[1;33m\u001b[0m\u001b[0m\n\u001b[0;32m      3\u001b[0m \u001b[1;32mfor\u001b[0m \u001b[0mi\u001b[0m \u001b[1;32min\u001b[0m \u001b[0mrange\u001b[0m\u001b[1;33m(\u001b[0m\u001b[1;36m0\u001b[0m\u001b[1;33m,\u001b[0m\u001b[0mlen\u001b[0m\u001b[1;33m(\u001b[0m\u001b[0maction_link\u001b[0m\u001b[1;33m)\u001b[0m\u001b[1;33m)\u001b[0m\u001b[1;33m:\u001b[0m\u001b[1;33m\u001b[0m\u001b[1;33m\u001b[0m\u001b[0m\n\u001b[1;32m----> 4\u001b[1;33m     \u001b[0maction\u001b[0m\u001b[1;33m.\u001b[0m\u001b[0mappend\u001b[0m\u001b[1;33m(\u001b[0m\u001b[0mrun\u001b[0m\u001b[1;33m(\u001b[0m\u001b[0maction_link\u001b[0m\u001b[1;33m[\u001b[0m\u001b[0mi\u001b[0m\u001b[1;33m]\u001b[0m\u001b[1;33m)\u001b[0m\u001b[1;33m)\u001b[0m\u001b[1;33m\u001b[0m\u001b[1;33m\u001b[0m\u001b[0m\n\u001b[0m",
      "\u001b[1;31mNameError\u001b[0m: name 'run' is not defined"
     ]
    }
   ],
   "source": [
    "action_link = open(\"D:/Documents/DataScience/Portfolio/films/films/action.txt\").readlines()\n",
    "action = []\n",
    "for i in range(0,len(action_link)):\n",
    "    action.append(run(action_link[i]))"
   ]
  },
  {
   "cell_type": "code",
   "execution_count": 58,
   "metadata": {},
   "outputs": [
    {
     "data": {
      "text/plain": [
       "'https://www.rottentomatoes.com/m/hors_la_loi_2010'"
      ]
     },
     "execution_count": 58,
     "metadata": {},
     "output_type": "execute_result"
    }
   ],
   "source": [
    "action_link[0].replace('\\n','')"
   ]
  },
  {
   "cell_type": "code",
   "execution_count": 62,
   "metadata": {},
   "outputs": [],
   "source": [
    "pageLink = action_link[0].replace('\\n','')\n",
    "for i in range(0,5):\n",
    "    try:\n",
    "        response=requests.get(pageLink,headers = { 'User-Agent': 'Mozilla/5.0 (Windows NT 6.1) AppleWebKit/537.36 (KHTML, like Gecko) Chrome/41.0.2228.0 Safari/537.36', } )        \n",
    "        html=response.content\n",
    "        break\n",
    "    except Exception as e:# browser.open() threw an exception, the attempt to get the response failed\n",
    "        None\n",
    "soup = BeautifulSoup(html.decode('ascii', 'ignore'),'html.parser') # parse the html\n",
    "#for i in range(0,5):\n",
    "try:\n",
    "    description = soup.find('div', {'class':re.compile('movie_synopsis')}).text\n",
    "except:\n",
    "    description = 'NA'\n",
    "#for i in range(0,5):\n",
    "try:\n",
    "    box = soup.findAll('div', {'class':re.compile('meta-value')})\n",
    "    rating = box[0].text\n",
    "\n",
    "except:\n",
    "    rating = 'NA' \n",
    "\n",
    "#for i in range(0,5):\n",
    "try:\n",
    "    box4 = soup.findAll('div', {'class':re.compile('meta-value')})\n",
    "    director_1 = box4[2].findAll(('a', {'href':re.compile('celebrity')}))\n",
    "    director1 = director_1[0].text\n",
    "\n",
    "except:\n",
    "    director1 =  'NA'    \n",
    "#for i in range(0,5):\n",
    "try:\n",
    "    box5 = soup.findAll('div', {'class':re.compile('meta-value')})\n",
    "    director_2 = box5[2].findAll(('a', {'href':re.compile('celebrity')}))\n",
    "    director2 = director_2[1].text\n",
    "\n",
    "except:\n",
    "    director2 = 'NA' \n",
    "#for i in range(0,5):\n",
    "try:\n",
    "    box6 = soup.findAll('div', {'class':re.compile('meta-value')})\n",
    "    director_3 = box6[2].findAll(('a', {'href':re.compile('celebrity')}))\n",
    "    director3 = director_3[2].text\n",
    "\n",
    "except:\n",
    "    director3 = 'NA' \n",
    "#for i in range(0,5):\n",
    "try:\n",
    "    box7 = soup.findAll('div', {'class':re.compile('meta-value')})\n",
    "    writer_1 = box7[3].findAll(('a', {'href':re.compile('celebrity')}))\n",
    "    writer1 = writer_1[0].text\n",
    "\n",
    "except:\n",
    "    writer1 = 'NA'    \n",
    "#for i in range(0,5):         \n",
    "try:\n",
    "    box8 = soup.findAll('div', {'class':re.compile('meta-value')})\n",
    "    writer_2 = box8[3].findAll(('a', {'href':re.compile('celebrity')}))\n",
    "    writer2 = writer_2[1].text\n",
    "\n",
    "except:\n",
    "    writer2 = 'NA'   \n",
    "#for i in range(0,5): \n",
    "try:\n",
    "    box9 = soup.findAll('div', {'class':re.compile('meta-value')})\n",
    "    writer_3 = box9[3].findAll(('a', {'href':re.compile('celebrity')}))\n",
    "    writer3 = writer_3[2].text\n",
    "\n",
    "except:\n",
    "    writer3 =  'NA'    \n",
    "#for i in range(0,5):\n",
    "try:\n",
    "    box10 = soup.findAll('div', {'class':re.compile('meta-value')})\n",
    "    writer_4 = box10[3].findAll(('a', {'href':re.compile('celebrity')}))\n",
    "\n",
    "    writer4 = writer_4[3].text\n",
    "\n",
    "except:\n",
    "    writer4 = 'NA' \n",
    "#for i in range(0,5):\n",
    "try:\n",
    "    time1 = soup.findAll('time')\n",
    "    releasedate = time1[0].text\n",
    "\n",
    "except:\n",
    "    releasedate =  'NA'    \n",
    "#for i in range(0,5):\n",
    "try:\n",
    "    time2 = soup.findAll('time')\n",
    "\n",
    "    streamdate = time2[1].text\n",
    "\n",
    "except:\n",
    "    streamdate = 'NA'  \n",
    "#for i in range(0,5):\n",
    "try:\n",
    "    time3 = soup.findAll('time')\n",
    "    runtime = time3[2].text\n",
    "\n",
    "except:\n",
    "    runtime = 'NA'\n",
    "#for i in range(0,5):    \n",
    "try:\n",
    "    box11 = soup.findAll('div', {'class':re.compile('meta-value')})\n",
    "    studio =  box11[-1].text\n",
    "\n",
    "except:\n",
    "    studio = 'NA' \n",
    "#for i in range(0,5):      \n",
    "try:\n",
    "    cast_1 = soup.findAll('div',{'class':re.compile('cast-item')})\n",
    "    cast1 =  cast_1[0].find('span').text\n",
    "\n",
    "except:\n",
    "    cast1 = 'NA'  \n",
    "#for i in range(0,5):\n",
    "try:\n",
    "    cast_2 = soup.findAll('div',{'class':re.compile('cast-item')})\n",
    "    cast2 =  cast_2[1].find('span').text\n",
    "\n",
    "except:\n",
    "    cast2 = 'NA' \n",
    "#for i in range(0,5):      \n",
    "try:\n",
    "    cast_3 = soup.findAll('div',{'class':re.compile('cast-item')})\n",
    "    cast3 =  cast_3[2].find('span').text\n",
    "\n",
    "except:\n",
    "    cast3 = 'NA'  \n",
    "#for i in range(0,5):  \n",
    "try:\n",
    "    cast_4= soup.findAll('div',{'class':re.compile('cast-item')})\n",
    "    cast4 =  cast_4[3].find('span').text\n",
    "\n",
    "except:\n",
    "    cast4 = 'NA'\n",
    "#for i in range(0,5):      \n",
    "try:\n",
    "    cast_5 = soup.findAll('div',{'class':re.compile('cast-item')})\n",
    "    cast5 =  cast_5[4].find('span').text\n",
    "\n",
    "except:\n",
    "    cast5 = 'NA'\n",
    "#for i in range(0,5):      \n",
    "try:\n",
    "    cast_6 = soup.findAll('div',{'class':re.compile('cast-item')})\n",
    "    cast6 =  cast_6[5].find('span').text\n",
    "\n",
    "except:\n",
    "    cast6 = 'NA'\n",
    "#for i in range(0,5):      \n",
    "try:\n",
    "    title = soup.find('h1',{'class':re.compile('title')}).text\n",
    "    year = soup.find('span',{'class':re.compile('year')}).text\n",
    "except:\n",
    "    title = 'NA'  \n",
    "    year = 'NA'\n",
    "    \n",
    "\n"
   ]
  },
  {
   "cell_type": "code",
   "execution_count": 111,
   "metadata": {},
   "outputs": [
    {
     "name": "stdout",
     "output_type": "stream",
     "text": [
      "76 41\n"
     ]
    }
   ],
   "source": [
    "tomatometer = soup.find('a',{'id':re.compile('tomato_meter_link')})\n",
    "tomatometer = re.findall(r'\\d+', tomatometer.text)[0]\n",
    "tomatometer_review_count = soup.find('h3',{'class':re.compile('mop-ratings-wrap__title mop-ratings-wrap__title--small')}).parent.small.contents[0]\n",
    "tomatometer_review_count = re.findall(r'\\d+', tomatometer_review_count)[0]\n",
    "print(tomatometer,tomatometer_review_count)"
   ]
  },
  {
   "cell_type": "code",
   "execution_count": 123,
   "metadata": {},
   "outputs": [
    {
     "name": "stdout",
     "output_type": "stream",
     "text": [
      "65 678\n"
     ]
    }
   ],
   "source": [
    "audience_meter = re.findall(r'\\d+', soup.find('a',{'href':re.compile('#audience_reviews')}).text)[0]\n",
    "audience_review_count = re.findall(r'\\d+', soup.find('a',{'href':re.compile('#audience_reviews')}).parent.parent.strong.text)[0]\n",
    "print(audience_meter, audience_review_count)"
   ]
  },
  {
   "cell_type": "code",
   "execution_count": 154,
   "metadata": {},
   "outputs": [
    {
     "name": "stdout",
     "output_type": "stream",
     "text": [
      "6.46 6.41 20 3.5 168 91 220\n"
     ]
    },
    {
     "data": {
      "text/plain": [
       "'wantToSeeData = {\"wantToSeeCount\":220,\"ratingsStartDate\":\"2010-09-21T21:00:00Z\"};\\nroot.RottenTomatoes.context.scoreBoardViewModel = {\"hasMovieData\":true,\"isReleased\":true,\"releaseDate\":\"Nov 3, 2010\",\"showtimesLink\":\"\\\\u002Fshowtimes\",\"isVerified\":false,\"canVerifyRatings\":false,\"isPrerelease\":false,\"initialCriticProgress\":0,\"initialAudience'"
      ]
     },
     "execution_count": 154,
     "metadata": {},
     "output_type": "execute_result"
    }
   ],
   "source": [
    "js_dump = soup.find('script',{'type':re.compile('text/javascript')}).contents[0]\n",
    "index = js_dump.find(\"tomatometerAllCritics\")\n",
    "review_data = js_dump[index:index+1000]\n",
    "avg_score = review_data[review_data.find(\"avgScore\")+10:review_data.find(',\"freshCount\"')]\n",
    "review_data = review_data[review_data.find(\"tomatometerTopCritics\"):-1]\n",
    "avg_score_top_critics = review_data[review_data.find(\"avgScore\")+10:review_data.find(',\"freshCount\"')]\n",
    "top_critics_review_count = review_data[review_data.find(\"topReviews\")+12:review_data.find(\"}\")]\n",
    "review_data = review_data[review_data.find(\"audienceAll\"):-1]\n",
    "avg_score_audience =  review_data[review_data.find(\"averageRating\")+16:review_data.find(\"scoreSentiment\")-3]\n",
    "audience_liked_count = review_data[review_data.find(\"likedCount\")+12:review_data.find(\"notLikedCount\")-2]\n",
    "audience_disliked_count = review_data[review_data.find(\"notLikedCount\")+15:review_data.find(\"}\")]\n",
    "review_data = review_data[review_data.find(\"wantToSeeData\"):-1]\n",
    "want_to_see_count = review_data[review_data.find(\"wantToSeeCount\")+16:review_data.find(\"ratingsStartDate\")-2]\n",
    "print(avg_score,avg_score_top_critics,top_critics_review_count,avg_score_audience,audience_liked_count,audience_disliked_count,want_to_see_count)\n",
    "review_data"
   ]
  },
  {
   "cell_type": "code",
   "execution_count": 124,
   "metadata": {},
   "outputs": [],
   "source": [
    "soup.find('root.RottenTomatoes.context.scoreInfo')"
   ]
  },
  {
   "cell_type": "code",
   "execution_count": 122,
   "metadata": {},
   "outputs": [
    {
     "data": {
      "text/plain": [
       "'User Ratings: 678'"
      ]
     },
     "execution_count": 122,
     "metadata": {},
     "output_type": "execute_result"
    }
   ],
   "source": [
    "soup.find('a',{'href':re.compile('#audience_reviews')}).parent.parent.strong.text"
   ]
  },
  {
   "cell_type": "code",
   "execution_count": 125,
   "metadata": {},
   "outputs": [
    {
     "data": {
      "text/plain": [
       "[]"
      ]
     },
     "execution_count": 125,
     "metadata": {},
     "output_type": "execute_result"
    }
   ],
   "source": [
    "soup.find_all(\"div\", attrs= {\"id\":\"all-critics-numbers\"})"
   ]
  },
  {
   "cell_type": "code",
   "execution_count": 110,
   "metadata": {},
   "outputs": [
    {
     "data": {
      "text/plain": [
       "'\\n            \\n                41\\n            \\n        '"
      ]
     },
     "execution_count": 110,
     "metadata": {},
     "output_type": "execute_result"
    }
   ],
   "source": [
    "tomatometer_review_count = soup.find('h3',{'class':re.compile('mop-ratings-wrap__title mop-ratings-wrap__title--small')}).parent.small.contents[0]\n",
    "tomatometer_review_count"
   ]
  },
  {
   "cell_type": "code",
   "execution_count": 108,
   "metadata": {},
   "outputs": [
    {
     "data": {
      "text/plain": [
       "'\\n            \\n                41\\n            \\n        '"
      ]
     },
     "execution_count": 108,
     "metadata": {},
     "output_type": "execute_result"
    }
   ],
   "source": [
    "tomatometer_review_count.small.contents[0]"
   ]
  },
  {
   "cell_type": "code",
   "execution_count": 67,
   "metadata": {},
   "outputs": [
    {
     "data": {
      "text/html": [
       "<div>\n",
       "<style scoped>\n",
       "    .dataframe tbody tr th:only-of-type {\n",
       "        vertical-align: middle;\n",
       "    }\n",
       "\n",
       "    .dataframe tbody tr th {\n",
       "        vertical-align: top;\n",
       "    }\n",
       "\n",
       "    .dataframe thead th {\n",
       "        text-align: right;\n",
       "    }\n",
       "</style>\n",
       "<table border=\"1\" class=\"dataframe\">\n",
       "  <thead>\n",
       "    <tr style=\"text-align: right;\">\n",
       "      <th></th>\n",
       "      <th>description</th>\n",
       "      <th>rating</th>\n",
       "      <th>director1</th>\n",
       "      <th>director2</th>\n",
       "      <th>director3</th>\n",
       "      <th>writer1</th>\n",
       "      <th>writer2</th>\n",
       "      <th>writer3</th>\n",
       "      <th>writer4</th>\n",
       "      <th>releasedate</th>\n",
       "      <th>...</th>\n",
       "      <th>runtime</th>\n",
       "      <th>studio</th>\n",
       "      <th>cast1</th>\n",
       "      <th>cast2</th>\n",
       "      <th>cast3</th>\n",
       "      <th>cast4</th>\n",
       "      <th>cast5</th>\n",
       "      <th>cast6</th>\n",
       "      <th>title</th>\n",
       "      <th>year</th>\n",
       "    </tr>\n",
       "  </thead>\n",
       "  <tbody>\n",
       "    <tr>\n",
       "      <th>0</th>\n",
       "      <td>\\n                After losing their family ho...</td>\n",
       "      <td>R (for violence)\\n</td>\n",
       "      <td>Rachid Bouchareb</td>\n",
       "      <td>NA</td>\n",
       "      <td>NA</td>\n",
       "      <td>Rachid Bouchareb</td>\n",
       "      <td>Olivier Lorelle</td>\n",
       "      <td>NA</td>\n",
       "      <td>NA</td>\n",
       "      <td>Nov 3, 2010\\n</td>\n",
       "      <td>...</td>\n",
       "      <td>\\n                            137 minutes\\n   ...</td>\n",
       "      <td>\\n                        Independent Pictures...</td>\n",
       "      <td>\\n                Sami Bouajila\\n</td>\n",
       "      <td>\\n                Jamel Debbouze\\n</td>\n",
       "      <td>\\n                Roschdy Zem\\n</td>\n",
       "      <td>\\n                Bernard Blancan\\n</td>\n",
       "      <td>\\n                Larbi Zekkal\\n</td>\n",
       "      <td>\\n                Sabrina Seyvecou\\n</td>\n",
       "      <td>\\n                                Outside the ...</td>\n",
       "      <td>2010</td>\n",
       "    </tr>\n",
       "  </tbody>\n",
       "</table>\n",
       "<p>1 rows × 21 columns</p>\n",
       "</div>"
      ],
      "text/plain": [
       "                                         description  \\\n",
       "0  \\n                After losing their family ho...   \n",
       "\n",
       "                                   rating         director1 director2  \\\n",
       "0  R (for violence)\\n                      Rachid Bouchareb        NA   \n",
       "\n",
       "  director3           writer1          writer2 writer3 writer4  \\\n",
       "0        NA  Rachid Bouchareb  Olivier Lorelle      NA      NA   \n",
       "\n",
       "                             releasedate  ...  \\\n",
       "0  Nov 3, 2010\\n                          ...   \n",
       "\n",
       "                                             runtime  \\\n",
       "0  \\n                            137 minutes\\n   ...   \n",
       "\n",
       "                                              studio  \\\n",
       "0  \\n                        Independent Pictures...   \n",
       "\n",
       "                                           cast1  \\\n",
       "0  \\n                Sami Bouajila\\n               \n",
       "\n",
       "                                            cast2  \\\n",
       "0  \\n                Jamel Debbouze\\n               \n",
       "\n",
       "                                         cast3  \\\n",
       "0  \\n                Roschdy Zem\\n               \n",
       "\n",
       "                                             cast4  \\\n",
       "0  \\n                Bernard Blancan\\n               \n",
       "\n",
       "                                          cast5  \\\n",
       "0  \\n                Larbi Zekkal\\n               \n",
       "\n",
       "                                              cast6  \\\n",
       "0  \\n                Sabrina Seyvecou\\n               \n",
       "\n",
       "                                               title  year  \n",
       "0  \\n                                Outside the ...  2010  \n",
       "\n",
       "[1 rows x 21 columns]"
      ]
     },
     "execution_count": 67,
     "metadata": {},
     "output_type": "execute_result"
    }
   ],
   "source": [
    "pd.DataFrame.from_dict({\n",
    "    'description': [description],\n",
    "    'rating': [rating],\n",
    "    'director1': [director1],\n",
    "    'director2': [director2],\n",
    "    'director3': [director3],\n",
    "    'writer1': [writer1],\n",
    "    'writer2': [writer2],\n",
    "    'writer3': [writer3],\n",
    "    'writer4': [writer4],\n",
    "    'releasedate': [releasedate],\n",
    "    'streamdate': [streamdate],\n",
    "    'runtime': [runtime],\n",
    "    'studio': [studio],\n",
    "    'cast1': [cast1],\n",
    "    'cast2': [cast2],\n",
    "    'cast3': [cast3],\n",
    "    'cast4': [cast4],\n",
    "    'cast5': [cast5],\n",
    "    'cast6': [cast6],\n",
    "    'title': [title],\n",
    "    'year': [year]\n",
    "})"
   ]
  },
  {
   "cell_type": "code",
   "execution_count": null,
   "metadata": {},
   "outputs": [],
   "source": []
  }
 ],
 "metadata": {
  "kernelspec": {
   "display_name": "Python 3",
   "language": "python",
   "name": "python3"
  },
  "language_info": {
   "codemirror_mode": {
    "name": "ipython",
    "version": 3
   },
   "file_extension": ".py",
   "mimetype": "text/x-python",
   "name": "python",
   "nbconvert_exporter": "python",
   "pygments_lexer": "ipython3",
   "version": "3.8.2"
  }
 },
 "nbformat": 4,
 "nbformat_minor": 4
}
